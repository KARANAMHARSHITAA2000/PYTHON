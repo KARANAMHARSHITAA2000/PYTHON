{
  "nbformat": 4,
  "nbformat_minor": 0,
  "metadata": {
    "colab": {
      "name": "DAY 9(30-01-2020)",
      "provenance": [],
      "authorship_tag": "ABX9TyMU8KgMJLzIBa5ei1jczOV+",
      "include_colab_link": true
    },
    "kernelspec": {
      "name": "python3",
      "display_name": "Python 3"
    }
  },
  "cells": [
    {
      "cell_type": "markdown",
      "metadata": {
        "id": "view-in-github",
        "colab_type": "text"
      },
      "source": [
        "<a href=\"https://colab.research.google.com/github/KARANAMHARSHITAA2000/PYTHON/blob/master/DAY_9(30_01_2020).ipynb\" target=\"_parent\"><img src=\"https://colab.research.google.com/assets/colab-badge.svg\" alt=\"Open In Colab\"/></a>"
      ]
    },
    {
      "cell_type": "code",
      "metadata": {
        "id": "KKIfdnWu7zBb",
        "colab_type": "code",
        "colab": {}
      },
      "source": [
        ""
      ],
      "execution_count": 0,
      "outputs": []
    },
    {
      "cell_type": "markdown",
      "metadata": {
        "id": "XsvN8b_t9qPA",
        "colab_type": "text"
      },
      "source": [
        "# Markdown\n",
        "## Markdown\n",
        "### Markdown\n",
        "#### Markdown\n",
        "# Markdown\n",
        "\n"
      ]
    },
    {
      "cell_type": "markdown",
      "metadata": {
        "id": "yAY-dIwi-jk2",
        "colab_type": "text"
      },
      "source": [
        ""
      ]
    },
    {
      "cell_type": "markdown",
      "metadata": {
        "id": "-JN70lez-qce",
        "colab_type": "text"
      },
      "source": [
        "**points**\n",
        "\n",
        "*points*\n",
        "\n",
        "***points***\n",
        "\n",
        "\n"
      ]
    },
    {
      "cell_type": "markdown",
      "metadata": {
        "id": "5P04ft9uA06S",
        "colab_type": "text"
      },
      "source": [
        "*** Adding links to Markdown ***\n",
        "\n",
        "[site](https://en.wikipedia.org/wiki/Jawaharlal_Nehru_Technological_University,_Anantapur)"
      ]
    },
    {
      "cell_type": "markdown",
      "metadata": {
        "id": "6PdkzxBrBvcT",
        "colab_type": "text"
      },
      "source": [
        "### Inserting image\n",
        "![text]https://upload.wikimedia.org/wikipedia/en/thumb/e/e3/Jawaharlal_Nehru_Technological_University%2C_Anantapur_logo.png/220px-Jawaharlal_Nehru_Technological_University%2C_Anantapur_logo.png"
      ]
    },
    {
      "cell_type": "markdown",
      "metadata": {
        "id": "qDVACMvTCnFD",
        "colab_type": "text"
      },
      "source": [
        ""
      ]
    },
    {
      "cell_type": "code",
      "metadata": {
        "id": "MgJTCIoWCnje",
        "colab_type": "code",
        "colab": {
          "base_uri": "https://localhost:8080/",
          "height": 34
        },
        "outputId": "393a63d0-5a29-40ee-c626-559cd9c49e32"
      },
      "source": [
        "print(\"hello world!\")"
      ],
      "execution_count": 1,
      "outputs": [
        {
          "output_type": "stream",
          "text": [
            "hello world!\n"
          ],
          "name": "stdout"
        }
      ]
    },
    {
      "cell_type": "code",
      "metadata": {
        "id": "D6n1_oxjDK7M",
        "colab_type": "code",
        "colab": {}
      },
      "source": [
        "# Variable creation\n"
      ],
      "execution_count": 0,
      "outputs": []
    },
    {
      "cell_type": "code",
      "metadata": {
        "id": "rzqXaTFNIDLA",
        "colab_type": "code",
        "colab": {
          "base_uri": "https://localhost:8080/",
          "height": 51
        },
        "outputId": "ec313ff0-ed4d-4ebf-e41c-3e6c33644971"
      },
      "source": [
        "print(\"hello , world\")\n",
        "print(\"hello , jntua\",\"|||\",\"chemical\",\"|||\",\"cse\",\"|||\",\"mca\")"
      ],
      "execution_count": 3,
      "outputs": [
        {
          "output_type": "stream",
          "text": [
            "hello , world\n",
            "hello , jntua ||| chemical ||| cse ||| mca\n"
          ],
          "name": "stdout"
        }
      ]
    },
    {
      "cell_type": "code",
      "metadata": {
        "id": "jkV59tAUChw7",
        "colab_type": "code",
        "colab": {}
      },
      "source": [
        ""
      ],
      "execution_count": 0,
      "outputs": []
    },
    {
      "cell_type": "markdown",
      "metadata": {
        "id": "rb3nb_73I08j",
        "colab_type": "text"
      },
      "source": [
        "# Assignment\n"
      ]
    },
    {
      "cell_type": "code",
      "metadata": {
        "id": "hhp0tT_wI6Q3",
        "colab_type": "code",
        "colab": {
          "base_uri": "https://localhost:8080/",
          "height": 68
        },
        "outputId": "6c1a1776-eaec-4cd7-96cf-431f57b27c0f"
      },
      "source": [
        "n1 = 100 # single variable assignment\n",
        "print(n1)\n",
        "a = b = c = 10 # multi variable assignment of same varible\n",
        "print(a,b,c)\n",
        "a1,b1,c1 = 100,200,300 # multiple variable assignment with different values\n",
        "print(a1,b1,c1)"
      ],
      "execution_count": 13,
      "outputs": [
        {
          "output_type": "stream",
          "text": [
            "100\n",
            "10 10 10\n",
            "100 200 300\n"
          ],
          "name": "stdout"
        }
      ]
    },
    {
      "cell_type": "code",
      "metadata": {
        "id": "R3tQlMmxJIMH",
        "colab_type": "code",
        "colab": {}
      },
      "source": [
        ""
      ],
      "execution_count": 0,
      "outputs": []
    },
    {
      "cell_type": "markdown",
      "metadata": {
        "id": "hLx5oFd6Kgms",
        "colab_type": "text"
      },
      "source": [
        "# Data types and conversions\n",
        "* int\n",
        "* float\n",
        "* string"
      ]
    },
    {
      "cell_type": "code",
      "metadata": {
        "id": "R8j7Ep7dKxT4",
        "colab_type": "code",
        "colab": {
          "base_uri": "https://localhost:8080/",
          "height": 34
        },
        "outputId": "f9600dd8-e4b5-4112-bf73-f15ad4f29621"
      },
      "source": [
        "a = 100\n",
        "s1 = 10.2\n",
        "s2 = \"python\"\n",
        "print(type (a),type(s1),type(s2))"
      ],
      "execution_count": 14,
      "outputs": [
        {
          "output_type": "stream",
          "text": [
            "<class 'int'> <class 'float'> <class 'str'>\n"
          ],
          "name": "stdout"
        }
      ]
    },
    {
      "cell_type": "code",
      "metadata": {
        "id": "bqaWbgP7LSnn",
        "colab_type": "code",
        "colab": {
          "base_uri": "https://localhost:8080/",
          "height": 68
        },
        "outputId": "0ca27973-a922-46bf-b39d-bfc64b0db4bc"
      },
      "source": [
        "i = 100\n",
        "print(type(i))\n",
        "s1 = str(i)\n",
        "print(type(s1))\n",
        "f1 = float(i)\n",
        "print(type(f1))"
      ],
      "execution_count": 16,
      "outputs": [
        {
          "output_type": "stream",
          "text": [
            "<class 'int'>\n",
            "<class 'str'>\n",
            "<class 'float'>\n"
          ],
          "name": "stdout"
        }
      ]
    },
    {
      "cell_type": "code",
      "metadata": {
        "id": "KsQU-8kAMTDl",
        "colab_type": "code",
        "colab": {
          "base_uri": "https://localhost:8080/",
          "height": 34
        },
        "outputId": "96a1319a-8ccb-4f5e-aed6-2d110398006a"
      },
      "source": [
        "# length\n",
        "a = 123456\n",
        "print(len(str(a)))"
      ],
      "execution_count": 17,
      "outputs": [
        {
          "output_type": "stream",
          "text": [
            "6\n"
          ],
          "name": "stdout"
        }
      ]
    },
    {
      "cell_type": "markdown",
      "metadata": {
        "id": "OULy2LZdNd2m",
        "colab_type": "text"
      },
      "source": [
        "# Reading input from user---input function\n"
      ]
    },
    {
      "cell_type": "code",
      "metadata": {
        "id": "y76ACktsNoaH",
        "colab_type": "code",
        "colab": {
          "base_uri": "https://localhost:8080/",
          "height": 68
        },
        "outputId": "6f1cbec6-32da-4d69-bdd4-442ad8942f4e"
      },
      "source": [
        "a = input(\"enter your name : \")\n",
        "print(a)\n",
        "print(type(a))"
      ],
      "execution_count": 19,
      "outputs": [
        {
          "output_type": "stream",
          "text": [
            "enter your name : JNTUA\n",
            "JNTUA\n",
            "<class 'str'>\n"
          ],
          "name": "stdout"
        }
      ]
    },
    {
      "cell_type": "code",
      "metadata": {
        "id": "61hKKaAwOFtS",
        "colab_type": "code",
        "colab": {
          "base_uri": "https://localhost:8080/",
          "height": 68
        },
        "outputId": "34881ec8-671f-4482-863c-4db1e09c54ca"
      },
      "source": [
        "B = int(input(\"enter your age : \"))\n",
        "print(B)\n",
        "print(type(B))"
      ],
      "execution_count": 20,
      "outputs": [
        {
          "output_type": "stream",
          "text": [
            "enter your age : 685\n",
            "685\n",
            "<class 'int'>\n"
          ],
          "name": "stdout"
        }
      ]
    },
    {
      "cell_type": "code",
      "metadata": {
        "id": "26717LelO7zE",
        "colab_type": "code",
        "colab": {}
      },
      "source": [
        ""
      ],
      "execution_count": 0,
      "outputs": []
    },
    {
      "cell_type": "markdown",
      "metadata": {
        "id": "bWJs3PDWPF-H",
        "colab_type": "text"
      },
      "source": [
        "# Operators\n",
        "- Operators is a symbol is used to perform a specific kind of operations\n"
      ]
    },
    {
      "cell_type": "markdown",
      "metadata": {
        "id": "oHPFYiuTPdu8",
        "colab_type": "text"
      },
      "source": [
        "# Arithmetic operators\n",
        "- +\n",
        "- -\n",
        "- *\n",
        "- /\n",
        "- % \n",
        "- //\n",
        "- **"
      ]
    },
    {
      "cell_type": "code",
      "metadata": {
        "id": "pzhBZrJbPu3O",
        "colab_type": "code",
        "colab": {
          "base_uri": "https://localhost:8080/",
          "height": 136
        },
        "outputId": "e504edd8-5789-4e4c-858e-63b76671a7d0"
      },
      "source": [
        "a = 123\n",
        "print(a+10)\n",
        "print(a-10)\n",
        "print(a*10)\n",
        "print(a/10)\n",
        "print(a%10)\n",
        "print(a//10)\n",
        "print(a**10)\n"
      ],
      "execution_count": 22,
      "outputs": [
        {
          "output_type": "stream",
          "text": [
            "133\n",
            "113\n",
            "1230\n",
            "12.3\n",
            "3\n",
            "12\n",
            "792594609605189126649\n"
          ],
          "name": "stdout"
        }
      ]
    },
    {
      "cell_type": "markdown",
      "metadata": {
        "id": "-E3ctYVIR9rd",
        "colab_type": "text"
      },
      "source": [
        "# Relational operators\n",
        "- =\n",
        "- ==\n",
        "- !=\n",
        "- <\n",
        "- >\n",
        "- <=\n",
        "- >="
      ]
    },
    {
      "cell_type": "code",
      "metadata": {
        "id": "iRWqQyvoSauG",
        "colab_type": "code",
        "colab": {
          "base_uri": "https://localhost:8080/",
          "height": 34
        },
        "outputId": "e16de3a7-d0ef-495f-9bab-b1c32dfa1d57"
      },
      "source": [
        "x = 10\n",
        "a1 = x > 15\n",
        "print(a1)"
      ],
      "execution_count": 23,
      "outputs": [
        {
          "output_type": "stream",
          "text": [
            "False\n"
          ],
          "name": "stdout"
        }
      ]
    },
    {
      "cell_type": "code",
      "metadata": {
        "id": "QADsa9bUSlvl",
        "colab_type": "code",
        "colab": {}
      },
      "source": [
        ""
      ],
      "execution_count": 0,
      "outputs": []
    },
    {
      "cell_type": "markdown",
      "metadata": {
        "id": "l3--gghfS8x8",
        "colab_type": "text"
      },
      "source": [
        "# Logical operators\n",
        "- and\n",
        "- or\n",
        "- not"
      ]
    },
    {
      "cell_type": "code",
      "metadata": {
        "id": "59b8Yrf9TOnm",
        "colab_type": "code",
        "colab": {
          "base_uri": "https://localhost:8080/",
          "height": 68
        },
        "outputId": "4fbfd000-aa80-4c25-88ab-0c5c986aace3"
      },
      "source": [
        "i = 100\n",
        "a1 = (i>15) and (i<800)\n",
        "a2 = (i>15) or (i>800)\n",
        "i =  not 100\n",
        "print(a1)\n",
        "print(a2)\n",
        "print(i)"
      ],
      "execution_count": 26,
      "outputs": [
        {
          "output_type": "stream",
          "text": [
            "True\n",
            "True\n",
            "False\n"
          ],
          "name": "stdout"
        }
      ]
    },
    {
      "cell_type": "markdown",
      "metadata": {
        "id": "h_1eZ9PIUnkt",
        "colab_type": "text"
      },
      "source": [
        "# Control flow statements\n",
        "- conditional statements\n",
        "- looping statements"
      ]
    },
    {
      "cell_type": "code",
      "metadata": {
        "id": "LsIlY7SaU3K9",
        "colab_type": "code",
        "colab": {}
      },
      "source": [
        ""
      ],
      "execution_count": 0,
      "outputs": []
    },
    {
      "cell_type": "markdown",
      "metadata": {
        "id": "58aijvbJVD74",
        "colab_type": "text"
      },
      "source": [
        "# if - else statements\n",
        "## syntax\n",
        "# if Boolean_condition\n",
        "# statements\n",
        "# else :\n",
        "# statements"
      ]
    },
    {
      "cell_type": "code",
      "metadata": {
        "id": "lQjJfMwZVkSS",
        "colab_type": "code",
        "colab": {
          "base_uri": "https://localhost:8080/",
          "height": 51
        },
        "outputId": "be0e3f70-b929-4326-f76c-2f55a7efe8c8"
      },
      "source": [
        "# To check given number is even or odd\n",
        "n = int(input(\"enter a number\"))\n",
        "if n%2 == 0:\n",
        "  print(n,\"is even number\")\n",
        "else:\n",
        "  print(n,\"is odd number\")"
      ],
      "execution_count": 32,
      "outputs": [
        {
          "output_type": "stream",
          "text": [
            "enter a number54\n",
            "54 is even number\n"
          ],
          "name": "stdout"
        }
      ]
    },
    {
      "cell_type": "code",
      "metadata": {
        "id": "6kPHgVX9W6gy",
        "colab_type": "code",
        "colab": {
          "base_uri": "https://localhost:8080/",
          "height": 51
        },
        "outputId": "fdcaa399-a4c3-4b08-faf3-8e641dfdf19a"
      },
      "source": [
        "# To check given number is perfectly multiples of 3 and 5\n",
        "n = int(input(\"enter a number\"))\n",
        "if n%3 == 0 and n%5==0:\n",
        "  print(n, \"is multiples of 3 and 5\")\n",
        "else:\n",
        "  print(n, \"is not multiples of 3 and 5\")"
      ],
      "execution_count": 41,
      "outputs": [
        {
          "output_type": "stream",
          "text": [
            "enter a number789\n",
            "789 is not multiples of 3 and 5\n"
          ],
          "name": "stdout"
        }
      ]
    },
    {
      "cell_type": "code",
      "metadata": {
        "id": "gv_NxbANZb3v",
        "colab_type": "code",
        "colab": {
          "base_uri": "https://localhost:8080/",
          "height": 85
        },
        "outputId": "511bb5b2-271c-41ca-f28e-9fd80de249b8"
      },
      "source": [
        "# to check given number is negative positive or zero\n",
        "n = int(input(\"enter A\"))\n",
        "m = int(input(\"enter B\"))\n",
        "s = int(input(\"enter C\"))\n",
        "if(n>m and n>s) :\n",
        "  print(\" A is greater\")\n",
        "elif(m>n and m>s):\n",
        "  print(\" B is greater\")\n",
        "else:\n",
        "  print(\" C is greater\")"
      ],
      "execution_count": 66,
      "outputs": [
        {
          "output_type": "stream",
          "text": [
            "enter A12\n",
            "enter B52\n",
            "enter C63\n",
            " C is greater\n"
          ],
          "name": "stdout"
        }
      ]
    },
    {
      "cell_type": "code",
      "metadata": {
        "id": "cX14OBczewa3",
        "colab_type": "code",
        "colab": {}
      },
      "source": [
        "# TO CHECK GIVEN NUM IS LEAP YEAR \n",
        "n = int(input(\"enter a number\"))\n",
        "if n%4 == 0 and n%100 == 0:\n",
        "  print(\"the number is leap year\")\n",
        "else:\n",
        "    )"
      ],
      "execution_count": 0,
      "outputs": []
    },
    {
      "cell_type": "code",
      "metadata": {
        "id": "mklohjD6WOja",
        "colab_type": "code",
        "colab": {}
      },
      "source": [
        ""
      ],
      "execution_count": 0,
      "outputs": []
    }
  ]
}