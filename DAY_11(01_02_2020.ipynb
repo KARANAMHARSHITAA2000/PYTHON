{
  "nbformat": 4,
  "nbformat_minor": 0,
  "metadata": {
    "colab": {
      "name": "DAY 11(01-02-2020.ipynb",
      "provenance": [],
      "authorship_tag": "ABX9TyPavikqLLA+WWySlKGBBxC6",
      "include_colab_link": true
    },
    "kernelspec": {
      "name": "python3",
      "display_name": "Python 3"
    }
  },
  "cells": [
    {
      "cell_type": "markdown",
      "metadata": {
        "id": "view-in-github",
        "colab_type": "text"
      },
      "source": [
        "<a href=\"https://colab.research.google.com/github/KARANAMHARSHITAA2000/PYTHON/blob/master/DAY_11(01_02_2020.ipynb\" target=\"_parent\"><img src=\"https://colab.research.google.com/assets/colab-badge.svg\" alt=\"Open In Colab\"/></a>"
      ]
    },
    {
      "cell_type": "code",
      "metadata": {
        "id": "U_gkDSUl6_mq",
        "colab_type": "code",
        "colab": {}
      },
      "source": [
        ""
      ],
      "execution_count": 0,
      "outputs": []
    },
    {
      "cell_type": "markdown",
      "metadata": {
        "id": "4Lx0LU2M7AJf",
        "colab_type": "text"
      },
      "source": [
        "# tuple\n",
        "- parenthesis() --> tuple and square bracket[] --> list \n",
        "- difference b/w list and tuple \n",
        "    - list are mutable - can be changed/modified\n",
        "    - list used to access , modify add delete\n",
        "    - tuple are immutable -- cannot be changed\n",
        "    - used to access data\n",
        "    "
      ]
    },
    {
      "cell_type": "code",
      "metadata": {
        "id": "NuGr2xlD_3Qr",
        "colab_type": "code",
        "colab": {
          "base_uri": "https://localhost:8080/",
          "height": 51
        },
        "outputId": "6632d0d4-f869-4e36-995d-d4d88d0487db"
      },
      "source": [
        "t1 = (1,2,3,4,5)\n",
        "t2 = (9,8,7,2,2)\n",
        "print(t1,type(t1))\n",
        "print(t2,type(t2))"
      ],
      "execution_count": 3,
      "outputs": [
        {
          "output_type": "stream",
          "text": [
            "(1, 2, 3, 4, 5) <class 'tuple'>\n",
            "(9, 8, 7, 2, 2) <class 'tuple'>\n"
          ],
          "name": "stdout"
        }
      ]
    },
    {
      "cell_type": "code",
      "metadata": {
        "id": "ZOPY-RSaAAAM",
        "colab_type": "code",
        "colab": {}
      },
      "source": [
        ""
      ],
      "execution_count": 0,
      "outputs": []
    },
    {
      "cell_type": "markdown",
      "metadata": {
        "id": "tqnZcXUgA4hs",
        "colab_type": "text"
      },
      "source": [
        "# Dictionaries\n",
        "- it works on concept of set unique data\n",
        "- keys,values is the unique identifier for a value\n",
        "- each key is separated freom its values with colon(:)  \n",
        "- each key and value is separated by comma(,)\n",
        "- dictionaries enclosed with curly braces{}\n",
        "- ex: "
      ]
    },
    {
      "cell_type": "code",
      "metadata": {
        "id": "npw2ZLxiCVCb",
        "colab_type": "code",
        "colab": {
          "base_uri": "https://localhost:8080/",
          "height": 51
        },
        "outputId": "73b2fe98-11f3-42b7-85e9-d69cb0adba52"
      },
      "source": [
        "d1 = {\"name\":\"jntua\",\"emailid\":\"jntua@gmail.com\",\"address\":\"anantapur\"}\n",
        "print(d1)\n",
        "d1.keys()\n",
        "d1.values()\n",
        "d1[\"name\"]"
      ],
      "execution_count": 8,
      "outputs": [
        {
          "output_type": "stream",
          "text": [
            "{'name': 'jntua', 'emailid': 'jntua@gmail.com', 'address': 'anantapur'}\n"
          ],
          "name": "stdout"
        },
        {
          "output_type": "execute_result",
          "data": {
            "text/plain": [
              "'jntua'"
            ]
          },
          "metadata": {
            "tags": []
          },
          "execution_count": 8
        }
      ]
    },
    {
      "cell_type": "code",
      "metadata": {
        "id": "SmnVRURTDeUL",
        "colab_type": "code",
        "colab": {
          "base_uri": "https://localhost:8080/",
          "height": 34
        },
        "outputId": "e57af9aa-0292-4d0a-de9c-90c11c3858fb"
      },
      "source": [
        "d1 = {\"name\":\"jntua\",\"emailid\":\"jntua@gmail.com\",\"address\":\"anantapur\"}\n",
        "d1[\"emailid\"] = \"python@gmail.com\"\n",
        "print(d1)"
      ],
      "execution_count": 10,
      "outputs": [
        {
          "output_type": "stream",
          "text": [
            "{'name': 'jntua', 'emailid': 'python@gmail.com', 'address': 'anantapur'}\n"
          ],
          "name": "stdout"
        }
      ]
    },
    {
      "cell_type": "code",
      "metadata": {
        "id": "wCBRzKfPFvbh",
        "colab_type": "code",
        "colab": {
          "base_uri": "https://localhost:8080/",
          "height": 34
        },
        "outputId": "d5173d14-9d68-4db0-99c0-10574f329c36"
      },
      "source": [
        "d1 = {\"name\":\"jntua\",\"emailid\":\"jntua@gmail.com\",\"address\":\"anantapur\"}\n",
        "d1[\"address\"] = \"us\"\n",
        "print(d1)"
      ],
      "execution_count": 12,
      "outputs": [
        {
          "output_type": "stream",
          "text": [
            "{'name': 'jntua', 'emailid': 'jntua@gmail.com', 'address': 'us'}\n"
          ],
          "name": "stdout"
        }
      ]
    },
    {
      "cell_type": "code",
      "metadata": {
        "id": "XbahO748GHs4",
        "colab_type": "code",
        "colab": {
          "base_uri": "https://localhost:8080/",
          "height": 34
        },
        "outputId": "c8a35a3e-8ed7-4e72-bb6b-c726f249bf20"
      },
      "source": [
        "d1['courses'] = 'python'\n",
        "print(d1)"
      ],
      "execution_count": 13,
      "outputs": [
        {
          "output_type": "stream",
          "text": [
            "{'name': 'jntua', 'emailid': 'jntua@gmail.com', 'address': 'us', 'courses': 'python'}\n"
          ],
          "name": "stdout"
        }
      ]
    },
    {
      "cell_type": "code",
      "metadata": {
        "id": "U5rF_CNNGoXp",
        "colab_type": "code",
        "colab": {
          "base_uri": "https://localhost:8080/",
          "height": 34
        },
        "outputId": "8aba33b2-c0f5-4524-aab7-5e1ec4353e17"
      },
      "source": [
        "del d1['emailid']\n",
        "print(d1)"
      ],
      "execution_count": 14,
      "outputs": [
        {
          "output_type": "stream",
          "text": [
            "{'name': 'jntua', 'address': 'us', 'courses': 'python'}\n"
          ],
          "name": "stdout"
        }
      ]
    },
    {
      "cell_type": "markdown",
      "metadata": {
        "id": "sdpRsNDOHP41",
        "colab_type": "text"
      },
      "source": [
        "# strings :\n"
      ]
    },
    {
      "cell_type": "code",
      "metadata": {
        "id": "v3KmK4r8Hc9n",
        "colab_type": "code",
        "colab": {
          "base_uri": "https://localhost:8080/",
          "height": 34
        },
        "outputId": "ea655ac0-db45-42d7-ef7b-2211241151d9"
      },
      "source": [
        "s1 = \"python\"\n",
        "print(s1,type(s1))"
      ],
      "execution_count": 16,
      "outputs": [
        {
          "output_type": "stream",
          "text": [
            "pyhton <class 'str'>\n"
          ],
          "name": "stdout"
        }
      ]
    },
    {
      "cell_type": "code",
      "metadata": {
        "id": "iReFp3EjG4y6",
        "colab_type": "code",
        "colab": {
          "base_uri": "https://localhost:8080/",
          "height": 170
        },
        "outputId": "498ce4c9-9bc1-426a-9eab-13c4959b9c78"
      },
      "source": [
        "print(s1[-1])\n",
        "print(s1[2:])\n",
        "print(s1[1:])\n",
        "print(s1[2:4])\n",
        "print(s1[0:4])\n",
        "print(s1[1:5])\n",
        "print(s1[-1::-1])\n",
        "print(s1[3])\n",
        "print(s1[-1:-3:-1])\n"
      ],
      "execution_count": 54,
      "outputs": [
        {
          "output_type": "stream",
          "text": [
            "n\n",
            "hton\n",
            "yhton\n",
            "ht\n",
            "pyht\n",
            "yhto\n",
            "nothyp\n",
            "t\n",
            "no\n"
          ],
          "name": "stdout"
        }
      ]
    },
    {
      "cell_type": "code",
      "metadata": {
        "id": "6AwquaaROkTT",
        "colab_type": "code",
        "colab": {
          "base_uri": "https://localhost:8080/",
          "height": 34
        },
        "outputId": "f183ab16-00c2-45b1-ebe3-37056e935092"
      },
      "source": [
        "# reversing of string using function\n",
        "def reversestring(s1):\n",
        "   s1 = \"uiegdyefg\"\n",
        "   return(s1[::-1])\n",
        "reversestring(s1)"
      ],
      "execution_count": 68,
      "outputs": [
        {
          "output_type": "execute_result",
          "data": {
            "text/plain": [
              "'gfeydgeiu'"
            ]
          },
          "metadata": {
            "tags": []
          },
          "execution_count": 68
        }
      ]
    },
    {
      "cell_type": "code",
      "metadata": {
        "id": "yIODi-49IG5Q",
        "colab_type": "code",
        "colab": {}
      },
      "source": [
        ""
      ],
      "execution_count": 0,
      "outputs": []
    }
  ]
}