{
  "nbformat": 4,
  "nbformat_minor": 0,
  "metadata": {
    "colab": {
      "name": "DAY 10(31-01-2020).ipynb",
      "provenance": [],
      "authorship_tag": "ABX9TyPneEcrW6PMV7kornrO1xxN",
      "include_colab_link": true
    },
    "kernelspec": {
      "name": "python2",
      "display_name": "Python 2"
    }
  },
  "cells": [
    {
      "cell_type": "markdown",
      "metadata": {
        "id": "view-in-github",
        "colab_type": "text"
      },
      "source": [
        "<a href=\"https://colab.research.google.com/github/KARANAMHARSHITAA2000/PYTHON/blob/master/DAY_10(31_01_2020).ipynb\" target=\"_parent\"><img src=\"https://colab.research.google.com/assets/colab-badge.svg\" alt=\"Open In Colab\"/></a>"
      ]
    },
    {
      "cell_type": "markdown",
      "metadata": {
        "id": "j766m0KNgIEJ",
        "colab_type": "text"
      },
      "source": [
        ""
      ]
    },
    {
      "cell_type": "code",
      "metadata": {
        "id": "ROE8XCW3gIQM",
        "colab_type": "code",
        "colab": {}
      },
      "source": [
        ""
      ],
      "execution_count": 0,
      "outputs": []
    },
    {
      "cell_type": "code",
      "metadata": {
        "id": "v49bcQvIeZkW",
        "colab_type": "code",
        "outputId": "98ec4146-9cc6-43f3-a703-4c4dbb376d08",
        "colab": {
          "base_uri": "https://localhost:8080/",
          "height": 85
        }
      },
      "source": [
        "li=[1,2,3,4,5]\n",
        "print(max(li))\n",
        "print(min(li))\n",
        "print(sum(li))\n",
        "print(sum(li)/(len(li)))\n",
        "\n",
        "\n",
        "\n",
        "\n"
      ],
      "execution_count": 2,
      "outputs": [
        {
          "output_type": "stream",
          "text": [
            "5\n",
            "1\n",
            "15\n",
            "3\n"
          ],
          "name": "stdout"
        }
      ]
    },
    {
      "cell_type": "code",
      "metadata": {
        "id": "CP1LBKstg_0C",
        "colab_type": "code",
        "colab": {
          "base_uri": "https://localhost:8080/",
          "height": 119
        },
        "outputId": "88157d72-42fc-49bc-9c99-4aea7442169b"
      },
      "source": [
        "l=[1,2,3,4,5]\n",
        "l.append(56)\n",
        "print(l)\n",
        "l.insert(2,56)\n",
        "print(l)\n",
        "l.count(5)\n",
        "print(l)\n",
        "l.index(4)\n",
        "print(l)\n",
        "l.sort()\n",
        "print(l)\n",
        "l.pop(2)\n",
        "print(l)\n",
        "\n",
        "\n"
      ],
      "execution_count": 43,
      "outputs": [
        {
          "output_type": "stream",
          "text": [
            "[1, 2, 3, 4, 5, 56]\n",
            "[1, 2, 56, 3, 4, 5, 56]\n",
            "[1, 2, 56, 3, 4, 5, 56]\n",
            "[1, 2, 56, 3, 4, 5, 56]\n",
            "[1, 2, 3, 4, 5, 56, 56]\n",
            "[1, 2, 4, 5, 56, 56]\n"
          ],
          "name": "stdout"
        }
      ]
    },
    {
      "cell_type": "code",
      "metadata": {
        "id": "oloBXR5Qi5tZ",
        "colab_type": "code",
        "colab": {
          "base_uri": "https://localhost:8080/",
          "height": 51
        },
        "outputId": "ec3e0dbe-790d-461b-e690-9b4ab1424732"
      },
      "source": [
        "# using function return large number\n",
        "def largenumber(li):\n",
        " li.sort()\n",
        " return li[-1]\n",
        "def genericlarge(li,n):\n",
        "  li.sort()\n",
        "  return li[-n]\n",
        "li=[13,2,43,74,78,12,35]\n",
        "print(largenumber(li))\n",
        "print(genericlarge(li,3)) \n"
      ],
      "execution_count": 34,
      "outputs": [
        {
          "output_type": "stream",
          "text": [
            "78\n",
            "43\n"
          ],
          "name": "stdout"
        }
      ]
    },
    {
      "cell_type": "code",
      "metadata": {
        "id": "ibqenD0ZnOu7",
        "colab_type": "code",
        "colab": {}
      },
      "source": [
        ""
      ],
      "execution_count": 0,
      "outputs": []
    },
    {
      "cell_type": "markdown",
      "metadata": {
        "id": "1p5pLNrWnPAu",
        "colab_type": "text"
      },
      "source": [
        ""
      ]
    },
    {
      "cell_type": "code",
      "metadata": {
        "id": "YfLL8IlKj2Pr",
        "colab_type": "code",
        "colab": {
          "base_uri": "https://localhost:8080/",
          "height": 51
        },
        "outputId": "d3e13f98-0f70-4fe3-b5b5-51fd1d723691"
      },
      "source": [
        "def smallnumber(li):\n",
        "  li.sort()\n",
        "  return li[0]\n",
        "def genericsmall(li,n):\n",
        "  li.sort()\n",
        "  return li[n]\n",
        "li=[13,2,43,74,78,12,35]\n",
        "print(smallnumber(li))\n",
        "print(genericsmall(li,2))    "
      ],
      "execution_count": 38,
      "outputs": [
        {
          "output_type": "stream",
          "text": [
            "2\n",
            "13\n"
          ],
          "name": "stdout"
        }
      ]
    },
    {
      "cell_type": "code",
      "metadata": {
        "id": "AIm9-ABliFAg",
        "colab_type": "code",
        "colab": {}
      },
      "source": [
        ""
      ],
      "execution_count": 0,
      "outputs": []
    },
    {
      "cell_type": "markdown",
      "metadata": {
        "id": "fRgUSW8LnRt8",
        "colab_type": "text"
      },
      "source": [
        "# tuples\n",
        "- parenthesis() -->"
      ]
    }
  ]
}