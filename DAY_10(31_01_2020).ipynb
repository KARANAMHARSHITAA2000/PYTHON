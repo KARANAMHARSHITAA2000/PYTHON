{
  "nbformat": 4,
  "nbformat_minor": 0,
  "metadata": {
    "colab": {
      "name": "DAY 10(31-01-2020).ipynb",
      "provenance": [],
      "authorship_tag": "ABX9TyMZCzcgCzwJjtab6e+DF1II",
      "include_colab_link": true
    },
    "kernelspec": {
      "name": "python3",
      "display_name": "Python 3"
    }
  },
  "cells": [
    {
      "cell_type": "markdown",
      "metadata": {
        "id": "view-in-github",
        "colab_type": "text"
      },
      "source": [
        "<a href=\"https://colab.research.google.com/github/KARANAMHARSHITAA2000/PYTHON/blob/master/DAY_10(31_01_2020).ipynb\" target=\"_parent\"><img src=\"https://colab.research.google.com/assets/colab-badge.svg\" alt=\"Open In Colab\"/></a>"
      ]
    },
    {
      "cell_type": "code",
      "metadata": {
        "id": "Le9NCn6Au1fK",
        "colab_type": "code",
        "colab": {}
      },
      "source": [
        ""
      ],
      "execution_count": 0,
      "outputs": []
    },
    {
      "cell_type": "markdown",
      "metadata": {
        "id": "OBbKO77Exdew",
        "colab_type": "text"
      },
      "source": [
        "# Loop\n",
        "- While loop\n",
        "- For loop\n"
      ]
    },
    {
      "cell_type": "code",
      "metadata": {
        "id": "vxJi5JimxoYV",
        "colab_type": "code",
        "colab": {
          "base_uri": "https://localhost:8080/",
          "height": 51
        },
        "outputId": "fcde5133-780c-47d8-d3af-b4f7c796756e"
      },
      "source": [
        "# print numbers from 1to n\n",
        "# input 10\n",
        "# output 1 2 3 4 5 .....10\n",
        "n =  int(input(\"enter a number\"))\n",
        "i = 1\n",
        "while i <= n:\n",
        "  print(i,end = \" \")\n",
        "  i = i+1"
      ],
      "execution_count": 1,
      "outputs": [
        {
          "output_type": "stream",
          "text": [
            "enter a number10\n",
            "1 2 3 4 5 6 7 8 9 10 "
          ],
          "name": "stdout"
        }
      ]
    },
    {
      "cell_type": "code",
      "metadata": {
        "id": "PJU327tPzYLQ",
        "colab_type": "code",
        "colab": {
          "base_uri": "https://localhost:8080/",
          "height": 85
        },
        "outputId": "1c662f01-2e85-4e83-8f5a-be048c605d3e"
      },
      "source": [
        "n = int(input(\"enter a even number :\"))\n",
        "i = 2 \n",
        "sum = 0\n",
        "while i <= n :\n",
        "  print(i,sum)\n",
        "  i = i+2\n",
        "  sum = sum+i\n"
      ],
      "execution_count": 32,
      "outputs": [
        {
          "output_type": "stream",
          "text": [
            "enter a even number :6\n",
            "2 0\n",
            "4 4\n",
            "6 10\n"
          ],
          "name": "stdout"
        }
      ]
    },
    {
      "cell_type": "code",
      "metadata": {
        "id": "TAEevYBn3mHS",
        "colab_type": "code",
        "colab": {
          "base_uri": "https://localhost:8080/",
          "height": 51
        },
        "outputId": "ffcb709a-d46a-4f61-ac31-0ffab1a4d7aa"
      },
      "source": [
        "n = int(input(\"enter a number\"))\n",
        "rem = 0\n",
        "num = 0\n",
        "while n>0:\n",
        "  rem = n%10 \n",
        "  num = num*10+rem\n",
        "  n=n//10\n",
        "print(num)"
      ],
      "execution_count": 68,
      "outputs": [
        {
          "output_type": "stream",
          "text": [
            "enter a number123\n",
            "321\n"
          ],
          "name": "stdout"
        }
      ]
    },
    {
      "cell_type": "markdown",
      "metadata": {
        "id": "IX1fs9Jw9I4C",
        "colab_type": "text"
      },
      "source": [
        "# Functional programming\n",
        "- simple\n",
        "- easy to understand\n",
        "- better reuseability\n",
        "- lengthy program will be divided into sub programs"
      ]
    },
    {
      "cell_type": "code",
      "metadata": {
        "id": "elBR4Tx399Vg",
        "colab_type": "code",
        "colab": {}
      },
      "source": [
        "def nameofthefunction(<parameter>):\n",
        "  statements\n",
        "  return "
      ],
      "execution_count": 0,
      "outputs": []
    },
    {
      "cell_type": "code",
      "metadata": {
        "id": "rc-3j96E-Uom",
        "colab_type": "code",
        "colab": {
          "base_uri": "https://localhost:8080/",
          "height": 34
        },
        "outputId": "8e842cfb-901d-4dca-a98a-15d1836fa3dc"
      },
      "source": [
        "# print sum of even numbers\n",
        "# input:1234\n",
        "# output:(2+4)=6\n",
        "def sumofevendigits(n):\n",
        "   s=0\n",
        "   while n!=0:\n",
        "       r = n%10\n",
        "       if r%2==0:\n",
        "         s=s+r\n",
        "       n=n//10\n",
        "   return s\n",
        "sumofevendigits(1234)\n"
      ],
      "execution_count": 87,
      "outputs": [
        {
          "output_type": "execute_result",
          "data": {
            "text/plain": [
              "6"
            ]
          },
          "metadata": {
            "tags": []
          },
          "execution_count": 87
        }
      ]
    },
    {
      "cell_type": "code",
      "metadata": {
        "id": "zHGuiW3ADaXB",
        "colab_type": "code",
        "colab": {
          "base_uri": "https://localhost:8080/",
          "height": 34
        },
        "outputId": "f0725137-e066-4472-a5ec-8f86408800ed"
      },
      "source": [
        "# print largest numbers\n",
        "# input:6789\n",
        "# output:9\n",
        "def largestnumbers(n):\n",
        "   prev=0\n",
        "   next=0\n",
        "   while(n!=0):\n",
        "      prev=next\n",
        "      next=n%10\n",
        "      if(prev>next):\n",
        "        next=prev\n",
        "      n=n//10\n",
        "   return next\n",
        "largestnumbers(6789)\n",
        "      "
      ],
      "execution_count": 91,
      "outputs": [
        {
          "output_type": "execute_result",
          "data": {
            "text/plain": [
              "9"
            ]
          },
          "metadata": {
            "tags": []
          },
          "execution_count": 91
        }
      ]
    },
    {
      "cell_type": "markdown",
      "metadata": {
        "id": "NP4pxYnRIaXo",
        "colab_type": "text"
      },
      "source": [
        "# for loop\n",
        "# syntax:\n",
        "# for in range(start,stop,step):\n",
        "#   statements"
      ]
    },
    {
      "cell_type": "code",
      "metadata": {
        "id": "-g0tgmOGI4BG",
        "colab_type": "code",
        "colab": {}
      },
      "source": [
        "# syntax:\n",
        "for in range(start,stop,step):\n",
        "    statements\n",
        "    "
      ],
      "execution_count": 0,
      "outputs": []
    },
    {
      "cell_type": "code",
      "metadata": {
        "id": "tKwK_kPuJItF",
        "colab_type": "code",
        "colab": {
          "base_uri": "https://localhost:8080/",
          "height": 34
        },
        "outputId": "84180f4d-51bd-4a60-c96c-50f7c658fc0c"
      },
      "source": [
        "# using function print the numbers between limits\n",
        "# input : 11 25\n",
        "# output : 11 12 13 .....25\n",
        "def printseries(fn,ln):\n",
        "  for i in range(fn,ln+1):\n",
        "    print(i,end=\" \")\n",
        "  return\n",
        "printseries(11,25)  "
      ],
      "execution_count": 92,
      "outputs": [
        {
          "output_type": "stream",
          "text": [
            "11 12 13 14 15 16 17 18 19 20 21 22 23 24 25 "
          ],
          "name": "stdout"
        }
      ]
    },
    {
      "cell_type": "code",
      "metadata": {
        "id": "R4Pg9J0M0WbC",
        "colab_type": "code",
        "colab": {
          "base_uri": "https://localhost:8080/",
          "height": 34
        },
        "outputId": "33645950-2954-4d58-a877-6b2d4fcafb17"
      },
      "source": [
        "# input : 500 520\n",
        "# ouput : 500 504 508.....520\n",
        "def printseries(fn,ln):\n",
        "  for i in range(fn,ln+1,4):\n",
        "    print(i,end=\" \")\n",
        "  return \n",
        "printseries(500,520)"
      ],
      "execution_count": 100,
      "outputs": [
        {
          "output_type": "stream",
          "text": [
            "500 504 508 512 516 520 "
          ],
          "name": "stdout"
        }
      ]
    },
    {
      "cell_type": "markdown",
      "metadata": {
        "id": "rqAhuQIDMwf7",
        "colab_type": "text"
      },
      "source": [
        "# collection types\n",
        "- list\n",
        "- tuple\n",
        "- dictionary\n"
      ]
    },
    {
      "cell_type": "markdown",
      "metadata": {
        "id": "FjyVjQSeNKRQ",
        "colab_type": "text"
      },
      "source": [
        ""
      ]
    },
    {
      "cell_type": "code",
      "metadata": {
        "id": "-VRW6GrNL6gP",
        "colab_type": "code",
        "colab": {}
      },
      "source": [
        ""
      ],
      "execution_count": 0,
      "outputs": []
    },
    {
      "cell_type": "markdown",
      "metadata": {
        "id": "I2Nnt6tkNMIJ",
        "colab_type": "text"
      },
      "source": [
        "# list:\n",
        "- one of the data structure in python\n",
        "- data structure means to store,sort and search options\n",
        "- its one common data structure in python,the items of list separated by comma and enclosed by square brackets\n",
        "- list was IMMUTABLE(i.e.,values can change)\n",
        "- ex:\n",
        "-list1=[1,2,3,4,5]\n",
        "list=[\"jntua\",\"dasd\",\"asds\"]"
      ]
    },
    {
      "cell_type": "code",
      "metadata": {
        "id": "V8nJa5zHO4fl",
        "colab_type": "code",
        "colab": {
          "base_uri": "https://localhost:8080/",
          "height": 136
        },
        "outputId": "67676137-60a9-4f63-f488-affcb3915aff"
      },
      "source": [
        "li = [1,5,2,6,8,9]\n",
        "print(li)\n",
        "print(li[2])\n",
        "print(li[-2])\n",
        "print(li[3:])\n",
        "print(li[2:5])\n",
        "print(li[-3:-1])\n",
        "print(li[::2])\n"
      ],
      "execution_count": 113,
      "outputs": [
        {
          "output_type": "stream",
          "text": [
            "[1, 5, 2, 6, 8, 9]\n",
            "2\n",
            "8\n",
            "[6, 8, 9]\n",
            "[2, 6, 8]\n",
            "[6, 8]\n",
            "[1, 2, 8]\n"
          ],
          "name": "stdout"
        }
      ]
    },
    {
      "cell_type": "code",
      "metadata": {
        "id": "xIa7mYdRbhd7",
        "colab_type": "code",
        "colab": {
          "base_uri": "https://localhost:8080/",
          "height": 68
        },
        "outputId": "4637c9de-6886-400e-e4f0-4f79ce94b9f0"
      },
      "source": [
        "# UPDATE LIST\n",
        "li = [\"JNTUA\",8,\"ANTPR\",5,4]\n",
        "print(li)\n",
        "li[1]=\"154\"\n",
        "print(li)\n",
        "# delete list item\n",
        "del li[3]\n",
        "print(li)"
      ],
      "execution_count": 115,
      "outputs": [
        {
          "output_type": "stream",
          "text": [
            "['JNTUA', 8, 'ANTPR', 5, 4]\n",
            "['JNTUA', '154', 'ANTPR', 5, 4]\n",
            "['JNTUA', '154', 'ANTPR', 4]\n"
          ],
          "name": "stdout"
        }
      ]
    },
    {
      "cell_type": "code",
      "metadata": {
        "id": "PZuIP_spQJXB",
        "colab_type": "code",
        "colab": {
          "base_uri": "https://localhost:8080/",
          "height": 85
        },
        "outputId": "f5f9995e-ebfc-4538-9c95-b03ce3302fd6"
      },
      "source": [
        "# list operations\n",
        "li = [1,2,3,4,5]\n",
        "print(len(li))\n",
        "print(li*2)\n",
        "print(4 in li)\n",
        "print(6 in li)"
      ],
      "execution_count": 119,
      "outputs": [
        {
          "output_type": "stream",
          "text": [
            "5\n",
            "[1, 2, 3, 4, 5, 1, 2, 3, 4, 5]\n",
            "True\n",
            "False\n"
          ],
          "name": "stdout"
        }
      ]
    },
    {
      "cell_type": "code",
      "metadata": {
        "id": "YjPX8wbwdaZ0",
        "colab_type": "code",
        "colab": {}
      },
      "source": [
        ""
      ],
      "execution_count": 0,
      "outputs": []
    },
    {
      "cell_type": "markdown",
      "metadata": {
        "id": "PevF25s6eBax",
        "colab_type": "text"
      },
      "source": [
        "# list functions\n",
        "- max\n",
        "- min\n",
        "- sum\n",
        "- append\n",
        "- insert\n",
        "- count\n",
        "- index\n",
        "- short\n",
        "- pop\n"
      ]
    },
    {
      "cell_type": "code",
      "metadata": {
        "id": "v49bcQvIeZkW",
        "colab_type": "code",
        "colab": {
          "base_uri": "https://localhost:8080/",
          "height": 265
        },
        "outputId": "a9f55b21-4975-42e0-ad55-e625c117a631"
      },
      "source": [
        "li=[1,2,3,4,5]\n",
        "print(max(li))\n",
        "print(min(li))\n",
        "print(sum(li))\n",
        "print(sum(li)/(len(li)))\n",
        "\n",
        "\n"
      ],
      "execution_count": 124,
      "outputs": [
        {
          "output_type": "stream",
          "text": [
            "5\n",
            "1\n"
          ],
          "name": "stdout"
        },
        {
          "output_type": "error",
          "ename": "TypeError",
          "evalue": "ignored",
          "traceback": [
            "\u001b[0;31m---------------------------------------------------------------------------\u001b[0m",
            "\u001b[0;31mTypeError\u001b[0m                                 Traceback (most recent call last)",
            "\u001b[0;32m<ipython-input-124-d40198252665>\u001b[0m in \u001b[0;36m<module>\u001b[0;34m()\u001b[0m\n\u001b[1;32m      2\u001b[0m \u001b[0mprint\u001b[0m\u001b[0;34m(\u001b[0m\u001b[0mmax\u001b[0m\u001b[0;34m(\u001b[0m\u001b[0mli\u001b[0m\u001b[0;34m)\u001b[0m\u001b[0;34m)\u001b[0m\u001b[0;34m\u001b[0m\u001b[0;34m\u001b[0m\u001b[0m\n\u001b[1;32m      3\u001b[0m \u001b[0mprint\u001b[0m\u001b[0;34m(\u001b[0m\u001b[0mmin\u001b[0m\u001b[0;34m(\u001b[0m\u001b[0mli\u001b[0m\u001b[0;34m)\u001b[0m\u001b[0;34m)\u001b[0m\u001b[0;34m\u001b[0m\u001b[0;34m\u001b[0m\u001b[0m\n\u001b[0;32m----> 4\u001b[0;31m \u001b[0mprint\u001b[0m\u001b[0;34m(\u001b[0m\u001b[0msum\u001b[0m\u001b[0;34m(\u001b[0m\u001b[0mli\u001b[0m\u001b[0;34m)\u001b[0m\u001b[0;34m)\u001b[0m\u001b[0;34m\u001b[0m\u001b[0;34m\u001b[0m\u001b[0m\n\u001b[0m\u001b[1;32m      5\u001b[0m \u001b[0mprint\u001b[0m\u001b[0;34m(\u001b[0m\u001b[0msum\u001b[0m\u001b[0;34m(\u001b[0m\u001b[0mli\u001b[0m\u001b[0;34m)\u001b[0m\u001b[0;34m/\u001b[0m\u001b[0;34m(\u001b[0m\u001b[0mlen\u001b[0m\u001b[0;34m(\u001b[0m\u001b[0mli\u001b[0m\u001b[0;34m)\u001b[0m\u001b[0;34m)\u001b[0m\u001b[0;34m)\u001b[0m\u001b[0;34m\u001b[0m\u001b[0;34m\u001b[0m\u001b[0m\n\u001b[1;32m      6\u001b[0m \u001b[0;34m\u001b[0m\u001b[0m\n",
            "\u001b[0;31mTypeError\u001b[0m: 'int' object is not callable"
          ]
        }
      ]
    },
    {
      "cell_type": "code",
      "metadata": {
        "id": "wniba9OSe3KO",
        "colab_type": "code",
        "colab": {}
      },
      "source": [
        "li = [1,2,3,4,5]\n",
        "#1.append(56)\n",
        "#1.insert(2,56)\n"
      ],
      "execution_count": 0,
      "outputs": []
    }
  ]
}